{
 "cells": [
  {
   "cell_type": "markdown",
   "metadata": {
    "slideshow": {
     "slide_type": "slide"
    }
   },
   "source": [
    "東京工業大学2021年度　実践AI・データサイエンスB\n",
    "# 金融とデータサイエンス\n",
    "2021/7/9 (金)　16:15-17:55\n",
    "## 三菱UFJ銀行　森本 裕介"
   ]
  },
  {
   "cell_type": "markdown",
   "metadata": {},
   "source": [
    "# 自己紹介\n",
    "\n",
    " - 学生時代は数学を専攻 (東工大 学士, 東大 修士/博士)\n",
    " - 2009年三菱UFJ銀行入社\n",
    "     - 入社して以来ずっとクオンツ業務(金融機関で数理科学やITを駆使する仕事)を担当\n",
    "     - 2021年1月までデリバティブのプライシングモデル開発担当(金利モデル、XVA)\n",
    "         - 日本銀行金融研究所出向(2011-2012)\n",
    "         - MorganStanley, NY出向(2019-2021)\n",
    "     - 2021年1月から為替のアルゴリズム取引(EFX)を担当\n",
    "     \n",
    " - デリバティブ開発とEFX開発の違い(私見)\n",
    "   \n",
    "|   | デリバティブモデル開発 | EFXモデル開発 | \n",
    "| :--- | :--- | :---| \n",
    "|時間スケール| 日次データ<br>１取引期間は1年から数十年 <br> １つのモデルを数ヶ月〜１、２年で開発| ミリ秒データ<br>１取引のライフタイムは数秒から数十秒<br> １つのモデルを数週間〜１、２ヶ月で開発| \n",
    "|数理スキル| 数理ファイナンス(金融工学)<br>確率解析を中心とした純粋数学<br>応用数学 |データベース<br>統計分析<br>機械学習|\n",
    "|プログラミング| 複雑な数式を精緻に計算<br>重たい計算を高速に(数秒くらいで)計算<br>C++(Rust ?), C#, Python| marketの仕組みや<br>人間のトレーディングなどをアルゴリズム化<br>シンプルなロジックを高速に(一瞬で)計算<br>Java, Python|"
   ]
  },
  {
   "cell_type": "markdown",
   "metadata": {},
   "source": [
    "## 本講義の目的\n",
    "- 為替予測とアルゴリズム取引の方法を体験し、金融実務に使われているデータサイエンスを理解してもらうこと。\n",
    "* 講義は基本的にこちらが実演しますが、興味を持ってくれた方は、自分で動かし色々実験してもらえたら良いと思います。\n",
    "\n",
    "## スケジュール\n",
    "- 前半は為替の基礎とデータ取得、為替変動の特徴量の例の紹介\n",
    "- 後半はいくつかの機械学習モデルを使った為替予測と、予測に基づく取引戦略の紹介"
   ]
  },
  {
   "cell_type": "markdown",
   "metadata": {},
   "source": [
    "# 動作環境\n",
    "\n",
    "- Python　3.8.5　Anaconda\n",
    "     https://www.anaconda.com/products/individual\n",
    "- pandas-datareader\n",
    "     https://pandas-datareader.readthedocs.io/en/latest/index.html"
   ]
  },
  {
   "cell_type": "markdown",
   "metadata": {},
   "source": [
    "# Contents\n",
    "## 1. 為替はなぜ動くのか\n",
    "- 1.1. 為替の定義\n",
    "- 1.2. データ取得\n",
    "- 1.3. データの前処理\n",
    "- 1.4 為替変動の特徴量\n",
    "\n",
    "## 2. 為替を予測してみよう\n",
    "- 2.1. なぜ予測するのか\n",
    "- 2.2. 為替相場の歴史\n",
    "- 2.3. 金融実務での予測手法\n",
    "- 2.3. 予測手法の例\n",
    "\n",
    "## 3. 予測に基づく取引戦略を考えよう\n",
    "- 3.1. 取引戦略のモデル化とバックテスト\n",
    "- 3.2 バックテスト\n",
    "- 3.3  取引戦略の例"
   ]
  },
  {
   "cell_type": "markdown",
   "metadata": {
    "slideshow": {
     "slide_type": "slide"
    }
   },
   "source": [
    "# 1. 為替はなぜ動くのか"
   ]
  },
  {
   "cell_type": "markdown",
   "metadata": {},
   "source": [
    "## 1.1 為替の定義\n",
    "- 外国為替(Foreign Exchange, Forex, FX)\n",
    "    - 通貨１と通貨２を交換するときの交換レート\n",
    "    - 表示方法：　通貨1通貨２ = 「通貨1の１単位がが通貨2でいくらか」 \n",
    "        - USDJPY 109.38 $\\Leftrightarrow$ １ドル109.38円\n",
    "        - EURUSD 1.21  $\\Leftrightarrow$ 1EUR 1.21 ドル $\\Leftrightarrow$ 1 EUR 1.21 * 109.38 = 132.35 円 \n",
    "        - すなわちEURJPY 132.35\n",
    "    - 為替は世界中で取引されており、基本的に24時間常に変動している。\n",
    "        - ### 為替はなぜ動くのか？ すなわち   <span style=\"color: red; \">為替変動の特徴量は何か？\n",
    "\n",
    "## 1.2 データ取得\n",
    "- 今回の分析はFredというサイトからフリーで取得できる日次の経済データを利用する。\n",
    "- pandas_datareader という pythonのライブラリを使って、データをダウンロードする。\n",
    "- 欲しいデータのラベル名はFredのサイトhttps://fred.stlouisfed.org/categories/　から検索できる。"
   ]
  },
  {
   "cell_type": "code",
   "execution_count": null,
   "metadata": {
    "slideshow": {
     "slide_type": "-"
    }
   },
   "outputs": [],
   "source": [
    "# Prepare all Economic data\n",
    "import pandas as pd\n",
    "import matplotlib.pyplot as plt\n",
    "import pandas_datareader.data as web\n",
    "plt.style.use('seaborn')\n",
    "%matplotlib inline\n",
    "\n",
    "start='2009/1/1'\n",
    "end = '2021/06/20'\n",
    "\n",
    "df = pd.DataFrame({\n",
    "    'fx_usdjpy': web.DataReader('DEXJPUS', 'fred', start, end)['DEXJPUS'],\n",
    "    'fx_eurusd': web.DataReader('DEXUSEU', 'fred', start, end)['DEXUSEU'],\n",
    "    'fx_gbpusd': web.DataReader('DEXUSUK', 'fred', start, end)['DEXUSUK'],\n",
    "    'fx_audusd': web.DataReader('DEXUSAL', 'fred', start, end)['DEXUSAL'],\n",
    "    'fx_nzdusd': web.DataReader('DEXUSNZ', 'fred', start, end)['DEXUSNZ'],\n",
    "    'ir_jpy': web.DataReader('JPY6MTD156N','fred', start,end)['JPY6MTD156N'],\n",
    "    'ir_usd': web.DataReader('DGS10','fred',start, end)['DGS10'],\n",
    "    'oil': web.DataReader('DCOILBRENTEU', 'fred', start,end)['DCOILBRENTEU'],\n",
    "    'stock_us':web.DataReader(\"NASDAQ100\", 'fred', start,end)['NASDAQ100'],\n",
    "    'stock_jp':web.DataReader(\"NIKKEI225\",\"fred\",start,end)['NIKKEI225']\n",
    "    })\n",
    "df.dropna(inplace=True)\n",
    "\n",
    "df['fx_usdjpy'].plot(figsize=(9, 6))"
   ]
  },
  {
   "cell_type": "markdown",
   "metadata": {},
   "source": [
    "## 1.３データの前処理\n",
    "### 1.3.1 価格データから価格変化のデータへの変換\n",
    "- 価格データのような時系列データは定常的でない。過去の長期間の水準の履歴に依存している。\n",
    "- 一方、多くの統計モデルは時間定常的なデータを必要としている。\n",
    "    - 例えば、教師あり学習では特徴量とラベル(正解)データ$(X, y)$に対し、時間に依存しない対応関係 $y = F(X)$を推測。\n",
    "    - 差分を取ることで、過去に蓄積された履歴を取り除いて、定常データに変換出来る。\n",
    "    - 価格データに対しては、対数収益率を用いることが多い。\n",
    "    - $t_i$時点における価格$X_{t_i}$に対し、対数収益率$LR(t_i)$は\n",
    "     $$LR(t_i)=\\log {X_{t_i}}-\\log{X_{t_{i-1}}}.$$\n",
    "    - 金利データは負になる事もあることに注意\n",
    "        - $\\log$が取れない。金利には普通の差分$D(t_i)$を用いる。\n",
    "        $$D(t_i)=X_{t_{i}}-X_{t_{i-1}}.$$\n",
    "        - 金利は$\\log${債券価格}のように見做せるので、金利の差分は債券価格の対数収益率に対応しており整合がとれている。\n",
    "\n",
    "### 1.3.2 Lag付きのデータの用意\n",
    "- あとで、時刻$t_i$の価格変化を時刻$t_{i-1}$ 以前の価格変化から予測する用に、時刻をいくつかのlag分だけシフトしたデータを用意しておく。\n",
    "\n"
   ]
  },
  {
   "cell_type": "code",
   "execution_count": null,
   "metadata": {},
   "outputs": [],
   "source": [
    "# Data preprocessing\n",
    "import numpy as np\n",
    "from sklearn.model_selection import train_test_split\n",
    "\n",
    "# 1. 価格データを対数変化データに変換\n",
    "df['return_usdjpy'] = np.log(df['fx_usdjpy']).diff()\n",
    "df['return_eurusd'] = np.log(df['fx_eurusd']).diff()\n",
    "df['return_gbpusd'] = np.log(df['fx_gbpusd']).diff()\n",
    "df['return_audusd'] = np.log(df['fx_audusd']).diff()\n",
    "df['return_nzdusd'] = np.log(df['fx_nzdusd']).diff()\n",
    "df['return_oil'] = np.log(df['oil']).diff()\n",
    "df['return_stock_us'] = np.log(df['stock_us']).diff()\n",
    "df['return_stock_jp'] = np.log(df['stock_jp']).diff()\n",
    "df['return_ir_jpy'] = df['ir_jpy'].diff()\n",
    "df['return_ir_usd'] = df['ir_usd'].diff()\n",
    "\n",
    "# 2. Lag付きのデータの用意(過去3日間分のシフトされたデータ)\n",
    "lags = 3\n",
    "for name in df.columns:\n",
    "    for lag in range(1, lags + 1):\n",
    "        df['{}_lag{}'.format(name, lag)] = df[name].shift(lag)\n",
    "df.dropna(inplace=True)\n",
    "\n",
    "df.head()"
   ]
  },
  {
   "cell_type": "markdown",
   "metadata": {},
   "source": [
    "### 1.3.3 学習用データとテストデータの分離\n",
    "- 機械学習用に、全データの80％を学習用に、20%をテスト用に分離しておく。\n",
    "\n",
    "### 1.3.4 データの正規化\n",
    "- 学習用データの平均が0、標準偏差が１になるように変換し、アセットの違いによるスケールの違いを取り除く。\n",
    "    - スケール変換に使う平均、標準偏差は学習用データのみから計算することに注意 !\n",
    "    - テストデータまで込めて計算してしまうと、学習時にテストのデータをカンニングしていることになってしまう\n",
    "$$\\tilde{X}_{train} = \\frac{X_{train}-\\mu_{train}}{\\sigma_{train}}, \\\\ \n",
    "\\tilde{X}_{test} = \\frac{X_{test}-\\mu_{train}}{\\sigma_{train}}. $$"
   ]
  },
  {
   "cell_type": "code",
   "execution_count": null,
   "metadata": {},
   "outputs": [],
   "source": [
    "# 3. dataをTraining dataとTest dataに分離しておく\n",
    "df_train, df_test = train_test_split(df, test_size=0.2, shuffle=False)\n",
    "\n",
    "from sklearn.preprocessing import StandardScaler\n",
    "scalar=StandardScaler()\n",
    "#Training用データから統計量を取得\n",
    "scalar.fit(df_train) \n",
    "\n",
    "# 4. Trainig dataを自分の統計量を使って、平均0, 標準偏差1になるようにスケーリング\n",
    "df_train_std = pd.DataFrame(scalar.transform(df_train), columns=df.columns)\n",
    "# Test data はTrainig dataと同じパラメータでスケーリング\n",
    "df_test_std = pd.DataFrame(scalar.transform(df_test), columns=df.columns)\n",
    "\n",
    "df_train_std.head()"
   ]
  },
  {
   "cell_type": "markdown",
   "metadata": {},
   "source": [
    "## 1.4 為替変動の特徴量\n",
    "- 基本的には需給で決まっているはず\n",
    "    - ドルが欲しい人が多ければドルの価値は円に対して上がるので、USD JPYの交換レートは上がる\n",
    "- では何が需給を動かす要因になるのか？\n",
    "\n",
    "## 1.4 為替変動の特徴量 例1. 金利差\n",
    "\n",
    "|通貨| 金利 |現在| 1年後|\n",
    "|:---  | :--- | :--- | :--- |\n",
    "|USD| 5% | X ドル | 1.05 X ドル|\n",
    "|JPY| 0.1% | Y 円| 1.001 Y 円|\n",
    "\n",
    "- ドルで預金していると1年後 1.05倍になるのに、円で預金していると1.001倍にしかならない。\n",
    "- 円を借りて来てドルを購入するともうかる確率が高い。\n",
    "- よって金利差が大きくなると、金利が高い通貨が買われ、安い通貨が売られる傾向がある。"
   ]
  },
  {
   "cell_type": "code",
   "execution_count": null,
   "metadata": {},
   "outputs": [],
   "source": [
    "#correlation 金利差、USDJPY\n",
    "df_train_std['ir_usd_jpy'] =df_train_std['return_ir_usd'] - df_train_std['return_ir_jpy'] \n",
    "df_train_std.plot.scatter(x='ir_usd_jpy', y='return_usdjpy')"
   ]
  },
  {
   "cell_type": "markdown",
   "metadata": {},
   "source": [
    "## 1.4 為替変動の特徴量 例2. 相関\n",
    "- 景気が良い国の通貨は変われる傾向がある。\n",
    "- ニュージーランド経済はオーストラリア経済に左右される\n",
    "    - AUDUSDが上がるとNZDUSDも上がる\n",
    "- 資源国において、石油などは財源の中心\n",
    "    - 石油価格が上がるとAUDUSDも上がる"
   ]
  },
  {
   "cell_type": "code",
   "execution_count": null,
   "metadata": {
    "slideshow": {
     "slide_type": "-"
    }
   },
   "outputs": [],
   "source": [
    "# correlation AUD & NZD\n",
    "df_train_std.plot.scatter(x='return_audusd', y='return_nzdusd')"
   ]
  },
  {
   "cell_type": "code",
   "execution_count": null,
   "metadata": {},
   "outputs": [],
   "source": [
    "# correlation AUD & OIL\n",
    "df_train_std.plot.scatter(x='return_oil', y='return_audusd')"
   ]
  },
  {
   "cell_type": "markdown",
   "metadata": {},
   "source": [
    "## 1.4 為替変動の特徴量 例3. テクニカル分析\n",
    "### 単純移動平均　(simple moving average, sma)\n",
    "長期SMAと短期SMAがクロスするところが売買のサイン\n",
    "- 短気SMA > 長期SMA => 買い(ロング)ポジション\n",
    "- 短気SMA < 長期SMA => 売り(ショート)ポジション\n",
    "      "
   ]
  },
  {
   "cell_type": "code",
   "execution_count": null,
   "metadata": {},
   "outputs": [],
   "source": [
    "sma_short = 25\n",
    "sma_long = 250\n",
    "\n",
    "data = pd.DataFrame({\n",
    "    'fx_usdjpy': df['fx_usdjpy'],\n",
    "    'SMA_short': df['fx_usdjpy'].rolling(sma_short).mean(),\n",
    "    'SMA_long': df['fx_usdjpy'].rolling(sma_long).mean()\n",
    "})\n",
    "data.plot()"
   ]
  },
  {
   "cell_type": "markdown",
   "metadata": {},
   "source": [
    "## 1.4 為替変動の特徴量 例4. Random Walk仮説\n",
    "\n",
    "- 効率的市場仮説\n",
    "    - 入手可能な情報は全て現在の価格に反映されおり、将来の価格変動は完全にRandomという仮説。\n",
    "    - これが正しいとすると、どんなアルゴリズムでも市場平均に勝てないということだが、科学的には証明されていない。\n",
    "    - USDJPYの対数収益率のヒストグラムを見ると、確かに正規分布に近い形だが、完全にそうというわけではない。"
   ]
  },
  {
   "cell_type": "code",
   "execution_count": null,
   "metadata": {},
   "outputs": [],
   "source": [
    "#histgram of log return\n",
    "from scipy.stats import norm\n",
    "\n",
    "df_train_std['return_usdjpy'].plot.hist(bins=100)\n",
    "x=np.linspace(-5,5,1000)\n",
    "plt.plot(x, norm.pdf(x)*400)\n",
    "print(df_train_std['return_usdjpy'].count())"
   ]
  },
  {
   "cell_type": "markdown",
   "metadata": {},
   "source": [
    "# 2. 為替を予測してみよう"
   ]
  },
  {
   "cell_type": "markdown",
   "metadata": {},
   "source": [
    "## 2.1. なぜ予測するのか\n",
    "### 外国為替市場の安定化、健全な市場機能の維持、向上\n",
    "- 三菱UFJ銀行は本邦を代表する市場参加者として、市場に流動性を供給し、市場を安定化させる社会的役割を有す\n",
    "\n",
    "\n",
    "## 2.2. 為替相場の歴史\n",
    "|   |  | ~2000  |  2000~2015 | 2015~|\n",
    "| :--- | :---: | :---| :---| :---|\n",
    "|| プライシング | 人間 | 人間/機械  | 人間/機械  |\n",
    "|| 予測 | 人間 |人間 | 人間/機械 |\n",
    "|| 予測手法 |  | 人間による分析、<br>経験、勘 <br>初歩的な統計分析| 人間/機械 <br> 機械学習、DeepLearning |\n",
    "\n",
    "- プライシング：　顧客に適切にプライスを提示すること。\n",
    "- たとえば顧客からドル円を取引したいという申し出があれば、「買うなら105.20円(Bid)、売るなら105.21円(Ask)」などと表示\n"
   ]
  },
  {
   "cell_type": "markdown",
   "metadata": {},
   "source": [
    "## 2.3 金融実務での予測手法\n",
    "- 1. Output を決める\n",
    "    - 時間軸\n",
    "        - 実務ではミリ秒単位のティックデータから、数秒後の為替を予測している\n",
    "        - 今回は日次のデータから、次の日の為替を予測してみる\n",
    "    - 回帰、分類\n",
    "        - 為替の値動きを予想するのか(回帰)\n",
    "        - 為替の値動きの符合(Up/Down)のみを予測するのか（分類）\n",
    "            - 今回は主にこちらを実施。回帰も使うが、予想の対象は符号(Up/Down)のみ。\n",
    "- 2. Input を決める\n",
    "    - 予想のアイディア（ストーリー）から入力データを収集\n",
    "    - 前処理を施して特徴量を抽出\n",
    "- 3. さまざまな手法で分析、予測モデルを開発し、PDCAを高速で回す\n",
    " \n",
    "\n",
    "|入力| 手法 | 出力|評価|\n",
    "| :--- | :---: | :---|:---|\n",
    "|金利<br> ニュース<br>需要<br>他アセット(株など) | 線形回帰(単回帰、重回帰)<br>ロジスティック回帰<br>Lasso<br>RandomForest<br>SVM<br>Neural Networkなど |時間軸<br>回帰、分類 | 結果分析|\n",
    "\n",
    "\n",
    "- InSample期間でTrainingおよび、モデルのハイパーパラメータの決定を行い、テスト期間でテストを行う。\n",
    "\n",
    "|2009/1/1~2018/11/30|2018/12/1~2021/6/20|\n",
    "| :---: | :---:| \n",
    "| [------------------------------ In Sample -------------------------------] |[---- Out of Sample ----]|\n",
    "| Training 及び Validation | Test   |\n",
    "\n"
   ]
  },
  {
   "cell_type": "markdown",
   "metadata": {},
   "source": [
    "## 2.3.1 予測モデルの例 線形回帰\n",
    "\n",
    "- この１０数年間にもよく使われてきた単純なモデル\n",
    "- 目的変数と説明変数の組 $(y, X)={(y_{\\ell}, \\{X^{(k)}_{\\ell}\\}_{k=1}^K)}_{\\ell=1}^L$ に対し、目的変数を説明変数の線形関数で表現する\n",
    "    - $K: $説明変数の数\n",
    "    - $L$: データのsample数\n",
    "$$　u = w_0+\\sum_{k=1}^K w_k X^{(k)},$$\n",
    "\n",
    "\n",
    "- Loss 関数であるMSE（mean square error）\n",
    "$$Loss(w)=\\frac{1}{L}\\sum_{\\ell=1}^L |y_{\\ell}-u_{\\ell} |^2$$\n",
    "を最小化するようにパラメータ $w$ を決める(最小二乗法)。\n"
   ]
  },
  {
   "cell_type": "markdown",
   "metadata": {},
   "source": [
    "## 2.3.1(1) Simulation: 予測モデルの例 線形回帰(1)\n",
    "\n",
    "### Setting\n",
    "- Output(目的変数)\n",
    "     - 為替の上下予想(上昇=>＋1、下落=> -1)\n",
    "\n",
    "- Input (説明変数)\n",
    "    - 過去３日間のFX_USDJPYの対数収益率\n"
   ]
  },
  {
   "cell_type": "code",
   "execution_count": null,
   "metadata": {
    "scrolled": true
   },
   "outputs": [],
   "source": [
    "# regression(1)\n",
    "from sklearn.linear_model import LinearRegression\n",
    "from sklearn.model_selection import train_test_split\n",
    "import sklearn.metrics as metrics\n",
    "\n",
    "# 特徴量\n",
    "attribute = ['return_usdjpy_lag1', 'return_usdjpy_lag2', 'return_usdjpy_lag3']\n",
    "# Input\n",
    "X_train = df_train_std[attribute]\n",
    "X_test = df_test_std[attribute]\n",
    "\n",
    "# 正解データ\n",
    "y_train = np.sign(df_train_std['return_usdjpy'])\n",
    "y_test = np.sign(df_test_std['return_usdjpy'])\n",
    "\n",
    "# model\n",
    "regression = LinearRegression()\n",
    "# Training\n",
    "regression.fit(X_train, y_train)\n",
    "\n",
    "# 回帰係数 w\n",
    "coeff = pd.DataFrame({'x': X_train.columns, 'w': regression.coef_})\n",
    "coeff.set_index('x').plot.bar()\n",
    "\n",
    "# Output: 為替予想 up(+1) down(-1)\n",
    "predict_regression_train = np.sign(regression.predict(X_train))\n",
    "predict_regression_test = np.sign(regression.predict(X_test))\n",
    "\n",
    "# Trainig/Test それぞれ正解に対して何割正解したか。\n",
    "pd.DataFrame({\n",
    "    'Training': [metrics.accuracy_score(predict_regression_train, y_train)],\n",
    "    'Test':[metrics.accuracy_score(predict_regression_test, y_test)] }, index={'score'})"
   ]
  },
  {
   "cell_type": "markdown",
   "metadata": {},
   "source": [
    "### Result\n",
    "     - 学習データでは51％の正解率だが、テストデータでは46％程の正解率"
   ]
  },
  {
   "cell_type": "markdown",
   "metadata": {},
   "source": [
    "\n",
    "## 2.3.1(2) Simulation: 予測モデルの例 線形回帰(2)\n",
    "説明変数を増やしてみる\n",
    "### Setting　\n",
    "\n",
    "- Output (目的変数)\n",
    "     - 為替の上下予想(上昇=>＋1、下落=> -1)\n",
    "\n",
    "- Input (説明変数)\n",
    "    - 直近3日間のFX_USDJPYの対数収益率\n",
    "    - 直近3日間のFX_EURUSDの対数収益率\n",
    "    - 直近3日間のFX_GBPUSDの対数収益率\n",
    "    - 直近3日間のFX_AUDUSDの対数収益率\n",
    "    - 直近3日間のFX_OILの対数収益率\n",
    "    - 直近3日間のIR_USDの差分\n",
    "    - 直近3日間のIR_JPYの差分\n",
    "    - 直近3日間のUSD株（ダウ）の対数収益率\n",
    "    - 直近3日間の日本株（日経平均）の対数収益率\n"
   ]
  },
  {
   "cell_type": "code",
   "execution_count": null,
   "metadata": {},
   "outputs": [],
   "source": [
    "# regression(2)\n",
    "\n",
    "# 特徴量\n",
    "attribute = [\n",
    "'return_usdjpy_lag1', 'return_usdjpy_lag2', 'return_usdjpy_lag3',\n",
    "'return_eurusd_lag1', 'return_eurusd_lag2', 'return_eurusd_lag3',\n",
    "'return_gbpusd_lag1','return_gbpusd_lag2','return_gbpusd_lag3',\n",
    "'return_audusd_lag1','return_audusd_lag2','return_audusd_lag3',\n",
    "'return_oil_lag1','return_oil_lag2','return_oil_lag3',\n",
    "'return_ir_jpy_lag1','return_ir_jpy_lag2','return_ir_jpy_lag3',\n",
    "'return_ir_usd_lag1','return_ir_usd_lag2','return_ir_usd_lag3',\n",
    "'return_stock_us_lag1','return_stock_us_lag2','return_stock_us_lag3',\n",
    "'return_stock_jp_lag1','return_stock_jp_lag2', 'return_stock_jp_lag3']\n",
    "\n",
    "# Input\n",
    "X_train = df_train_std[attribute]\n",
    "X_test = df_test_std[attribute]\n",
    "\n",
    "regression2= LinearRegression() # model\n",
    "regression2.fit(X_train, y_train) # Training\n",
    "\n",
    "# 回帰係数 w\n",
    "coeff = pd.DataFrame({'x': X_train.columns, 'w': regression2.coef_})\n",
    "coeff.set_index('x').plot.bar()\n",
    "\n",
    "# Output: 為替予想 up(+1) down(-1)\n",
    "predict_regression2_train = np.sign(regression2.predict(X_train))\n",
    "predict_regression2_test = np.sign(regression2.predict(X_test))\n",
    "\n",
    "pd.DataFrame({\n",
    "    'Training': [metrics.accuracy_score(predict_regression2_train, y_train)],\n",
    "    'Test':[metrics.accuracy_score(predict_regression2_test, y_test)] }, index={'score'})"
   ]
  },
  {
   "cell_type": "markdown",
   "metadata": {},
   "source": [
    "### Result\n",
    "    - 学習データでのパフォーマンスは上がってるものの、テストデータに対する正解率は向上していない\n",
    "        - パラメータが過剰になり、オーバーフィッティングが起こっている"
   ]
  },
  {
   "cell_type": "markdown",
   "metadata": {},
   "source": [
    "## 2.3.2 予測モデルの例 LASSO回帰\n",
    "\n",
    "- 線形回帰のLoss関数に正則化項 $R(w)$を付け加えたもの\n",
    "$$Loss(a)=\\frac{1}{L}\\sum_{\\ell=1}^L |y_{\\ell}-u_{\\ell} |^2+\\alpha R(w),$$\n",
    "ここで、$\\alpha$は正則化の強さを調整するhyper parameter。\n",
    "- 正則化項\n",
    "     - $L^1$-norm: Lasso回帰 $$R(w)=\\|w\\|_1=\\sum_{k=1}^K |w_k|.$$\n",
    "     - $L^2$-norm: Ridge回帰 $$R(w)=\\|w\\|_2=\\sqrt{\\sum_{k=1}^K |w_k|^2}.$$\n",
    "- 通常$L^2$-normの方が数学的な性質は良い（絶対値より２乗の方が滑らかで微分などの計算がしやすい）が、回帰の正則化に関しては$L^1$-normを用いた方が$w$の要素が0になりやすいというメリットがある（スパース性）。\n",
    "- すなわち重要な特徴量を自動で選択してくれる。\n",
    "    - 一般的には選択された特徴量を確認し、解釈可能なら採用するという使い方をする。\n",
    "    - 裏側のストーリーを想像できるかどうか。\n",
    "    - 何か分からないけど使ってしまうのは、うまくいっている時は問題ないが、うまくいかなくなった時に評価や説明ができないので、使いにくい。\n"
   ]
  },
  {
   "cell_type": "markdown",
   "metadata": {},
   "source": [
    "## 2.3.2 Simulation: 予測モデルの例 LASSO回帰\n",
    "\n",
    "### Setting\n",
    "- Input/Output: 2.3.1(2)と同じ\n",
    "- $\\alpha=0.02$\n"
   ]
  },
  {
   "cell_type": "code",
   "execution_count": null,
   "metadata": {},
   "outputs": [],
   "source": [
    "# Lasso\n",
    "from sklearn.linear_model import Lasso\n",
    "\n",
    "lasso = Lasso(alpha=0.02) # model\n",
    "lasso.fit(X_train, y_train) # Training\n",
    "\n",
    "coeff = pd.DataFrame({'x': X_train.columns, 'w': lasso.coef_}) # 回帰係数\n",
    "coeff.set_index('x').plot.bar()\n",
    "\n",
    "# Output: 為替予想 up(+1) down(-1)\n",
    "predict_lasso_train = np.sign(lasso.predict(X_train))\n",
    "predict_lasso_test = np.sign(lasso.predict(X_test))\n",
    "\n",
    "pd.DataFrame({\n",
    "    'Training': [metrics.accuracy_score(predict_lasso_train, y_train)], #Traing dataに対する正解率\n",
    "    'Test':[metrics.accuracy_score(predict_lasso_test, y_test)] }, # Test dataに対する正解率\n",
    "    index={'score'})"
   ]
  },
  {
   "cell_type": "markdown",
   "metadata": {},
   "source": [
    "### Result\n",
    "\n",
    "- 学習データに対する正解率は少し下がるが、テストデータに対する正解率は改善する。\n",
    "- Oil, FX_GBPUSD, FX_AUDUSD, 日本株、米株は余り重要でないことが示唆された。"
   ]
  },
  {
   "cell_type": "markdown",
   "metadata": {},
   "source": [
    "## 2.3.3 予測モデルの例 Decision Tree /  Random Forest\n",
    "### Decision Tree\n",
    "- 条件分岐の結合によって FXUSDJPYが上がるか下がるか予想する。\n",
    "- 特徴量の数や分岐の深さが少ない場合は処理結果が解釈しやすく、妥当性を判断しやすいという利点がある。\n",
    "- Trainingデータにオーバーフィッティングしやすいのが弱点\n",
    "\n",
    "||  特徴量１||\n",
    "| :----| :----: |:---- | \n",
    "||  FX_USDJPYの直前の対数収益率> 0||\n",
    "|True||False|\n",
    "\n",
    "||  特徴量2|||  特徴量2||\n",
    "| :----| :----: |:---- | :----| :----: |:---- | \n",
    "||  FX_EURUSDの直前の対数収益率 > 5%||  FX_EURUSDの直前の対数収益率 > 10%||\n",
    "|True||False|True||False|\n",
    "|Up||Down|Up||Down|\n",
    "\n",
    "### Random Forest\n",
    "- Decision Treeを幾つかRandomに構成し、それを組み合わせるアンサンブル学習。\n",
    "- 少しづつ異なるDecision Treeをたくさん集めることでその結果の平均をとる。\n",
    "- Decision Treeの最大の弱点であるオーバーフィットオーバーフィットの度合いを減らす。"
   ]
  },
  {
   "cell_type": "markdown",
   "metadata": {},
   "source": [
    "## Hyper Parameter の決定\n",
    "- 全てIn Sampleのデータで行う。学習及びパラメータの学習はテスト期間(Out of Sample)のデータに一切触れないこと。\n",
    "    - Hyper Parameter（学習の前に事前に与えておくパラメータ）の決定にはGridSearchなどを用いる.\n",
    "        - 全ての候補の組み合わせに対して、CrossValidationを実行し、もっとも評価の高いものを採用する。\n",
    "    - 今回は５分割のCrossValidationを行う\n",
    "        - データを５分割し、そのうち４つ（80％）を学習に使用し、残り１つ(20%)を得られたparameterのValidationに使う。\n",
    "        - In Sampleのデータを使って5つのケースでテストできる。評価は5回の平均を用いる。\n",
    "        \n",
    "||||In Sample|||\n",
    "| :--- | :--- | :---: | :---| :----|:---|\n",
    "|(case1)|sample1|sample2 |sample3|sample4|<span style=\"color: red; \">sample5<span style=\"color: red; \">|\n",
    "|(case2)|sample1|sample2 |sample3|<span style=\"color: red; \">sample4<span style=\"color: red; \">|sample5|\n",
    "|(case3)|sample1|sample2 |<span style=\"color: red; \">sample3<span style=\"color: red; \">|sample4|sample5|\n",
    "|(case4)|sample1|<span style=\"color: red; \">sample2<span style=\"color: red; \">|sample3|sample4|sample5|\n",
    "|(case5)|<span style=\"color: red; \">sample1<span style=\"color: red; \">|sample2 |sample3|sample4|sample5|\n",
    "\n",
    " "
   ]
  },
  {
   "cell_type": "markdown",
   "metadata": {},
   "source": [
    "## 2.3.3(1) Simulation: 予測モデルの例 Decision Tree\n",
    "\n",
    "### Setting\n",
    "- Output\n",
    "     - 為替の上下予想(上昇=>＋1、下落=> -1)\n",
    "- Input\n",
    "    - 直近1日間のFX_USDJPYの対数収益率\n",
    "    - 直近1日間のFX_EURUSDの対数収益率\n",
    "    - 直近1日間のFX_GBPUSDの対数収益率\n",
    "    - 直近1日間のFX_AUDUSDの対数収益率\n",
    "    - 直近1日間のFX_OILの対数収益率\n",
    "    - 直近1日間のIR_USDの差分\n",
    "    - 直近1日間のIR_JPYの差分\n",
    "    - 直近1日間のUSD株（ダウ）の対数収益率\n",
    "    - 直近1日間の日本株（日経平均）の対数収益率"
   ]
  },
  {
   "cell_type": "code",
   "execution_count": null,
   "metadata": {},
   "outputs": [],
   "source": [
    "# Decision Tree with GridsearchCV\n",
    "from sklearn import tree\n",
    "from sklearn.model_selection import GridSearchCV\n",
    "\n",
    "# 特徴量\n",
    "attribute = [\n",
    "    'return_usdjpy_lag1',\n",
    "    'return_eurusd_lag1',\n",
    "    'return_gbpusd_lag1',\n",
    "    'return_audusd_lag1',\n",
    "    'return_oil_lag1',\n",
    "    'return_ir_jpy_lag1',\n",
    "    'return_ir_usd_lag1',\n",
    "    'return_stock_us_lag1',\n",
    "    'return_stock_jp_lag1']\n",
    "\n",
    "# Input\n",
    "X_train = df_train_std[attribute]\n",
    "X_test = df_test_std[attribute]\n",
    "\n",
    "# Hyper parameterの候補\n",
    "hyper_params = {\n",
    "    'random_state': [1024], #model内部で乱数を使うときのシード\n",
    "    'min_samples_split': [3, 5, 10, 15, 20], #nodeを分割するのに必要なパラメータの最小値\n",
    "    'max_depth': [10, 20, 30] #Treeの深さの最大値\n",
    "}\n",
    "\n",
    "# GridSearchCVのConstructor\n",
    "clf_tree = GridSearchCV(tree.DecisionTreeClassifier(),hyper_params, cv=5, verbose=False,refit=True)       \n",
    "# 各Hyper parameterの組み合わせでTraing\n",
    "clf_tree.fit(X_train, y_train) \n",
    "\n",
    "# bestなHyperParametrでのTraining結果に対する特徴量の重要度\n",
    "importance = clf_tree.best_estimator_.feature_importances_\n",
    "pd.Series(importance, index = X_train.columns).plot.bar()\n",
    "print(clf_tree.best_params_) #bestなHyperParameterの表示\n",
    "\n",
    "# Output: 為替予想 up(+1) down(-1)\n",
    "predict_tree_train = clf_tree.best_estimator_.predict(X_train)\n",
    "predict_tree_test = clf_tree.best_estimator_.predict(X_test)\n",
    "\n",
    "pd.DataFrame({\n",
    "    'Training': [metrics.accuracy_score(predict_tree_train, y_train)], #Traing dataに対する正解率\n",
    "    'Test':[metrics.accuracy_score(predict_tree_test, y_test)] }, #Test dataに対する正解率\n",
    "    index={'score'}) "
   ]
  },
  {
   "cell_type": "markdown",
   "metadata": {},
   "source": [
    "### Result\n",
    "- 学習データに対する正解率は高いものの、特徴量の重要度をみるとばらつきが多い。\n",
    "- Testデータに対する正答率はあまり良くない。"
   ]
  },
  {
   "cell_type": "markdown",
   "metadata": {},
   "source": [
    "## 2.3.3(2) Simulation: 予測モデルのTest Random Forest\n",
    "\n",
    "### Setting\n",
    "- Input/Output: 2.3.3(1)と同じ\n",
    "\n"
   ]
  },
  {
   "cell_type": "code",
   "execution_count": null,
   "metadata": {},
   "outputs": [],
   "source": [
    "# Random forest with GridsearchCV\n",
    "from sklearn.ensemble import RandomForestClassifier as RFC\n",
    "\n",
    "# Hyper parameterはDecisionTreeで見つけたものを使用\n",
    "hyper_params = {\n",
    "    'random_state': [clf_tree.best_params_['random_state']], #内部で使われる乱数のシード\n",
    "    'min_samples_split': [clf_tree.best_params_['min_samples_split']], #nodeを分割するのに必要なパラメータの最小値\n",
    "    'max_depth': [clf_tree.best_params_['max_depth']] #Treeの深さの最大値\n",
    "}\n",
    "\n",
    "# GridSearchCVのConstructor\n",
    "clf_rf = GridSearchCV(RFC(), hyper_params, cv=5, verbose=False, refit=True, n_jobs=-1)       \n",
    "clf_rf.fit(X_train, y_train) # 各Hyper parameterの組み合わせでTraing\n",
    "\n",
    "# bestなHyperParametrでのTraining結果に対する特徴量の重要度\n",
    "importance = clf_rf.best_estimator_.feature_importances_\n",
    "pd.Series(importance, index = X_train.columns).plot.bar()\n",
    "print(clf_rf.best_params_) #bestなHyperParameterの表示\n",
    "\n",
    "# Output: 為替予想 up(+1) down(-1)\n",
    "predict_rf_train = clf_rf.best_estimator_.predict(X_train) \n",
    "predict_rf_test = clf_rf.best_estimator_.predict(X_test) \n",
    "\n",
    "pd.DataFrame({\n",
    "    'Training': [metrics.accuracy_score(predict_rf_train, y_train)], #trainig dataに対する予想\n",
    "    'Test':[metrics.accuracy_score(predict_rf_test, y_test)] }, #test dataに対する予想\n",
    "    index={'score'})\n"
   ]
  },
  {
   "cell_type": "markdown",
   "metadata": {},
   "source": [
    "### Result\n",
    "- 学習データに対する正解率はDecision Treeより改善し、特徴量ごとの重要度も概ね落ち着いている。\n",
    "- Testデータに対する正答率もDecision Treeより良くなっているが、まだオーバーフィッティングしている感がある。　"
   ]
  },
  {
   "cell_type": "markdown",
   "metadata": {},
   "source": [
    "## 2.3.4 予測モデルの例 Deep Learning\n",
    "### Neural Networkを使用し、為替を予測する\n",
    "- 今回は最もシンプルなNeuralNetworkである多層パーセプトロンで実験する。\n",
    "- 各層$i=1,...,n$に対して、以下の線形変換と非線形変換を行う。\n",
    "    - 線形変換(全結合)\n",
    "         - $u^{(i)} = W^{(i)} x^{(i-1)} + W_0^{(i)},$\n",
    "    - 非線形変換(activation)\n",
    "        - $x^{(i)} = h(u^{(i)}).$\n",
    "        \n",
    "- 各種パラメータの定義        \n",
    "    - $ x^{(i)} \\in {\\bf R}^{m_i}$: 層 $i$ におけるInput\n",
    "    -  $m_i$ : 層 $i$ におけるニューロン数　\n",
    "    - 入力層 $i = 0$\n",
    "    - 中間層(隠れ層) $i=2,3,\\dots, n-1$\n",
    "    - 出力層 $i = n$\n",
    "    - $h$: activation function\n",
    "        - $tanh(x)=\\frac{e^x - e^{-x}}{e^{x}+e^{-x}}$\n",
    "    - solverにより、$W^{(i)}$を決める。\n",
    "\n",
    "\n",
    "- 実際は次が使われることが多い\n",
    "    - LSTM: 長期と短期記憶を持ったNeural Network. テクニカル分析のようにチャートの時系列から特徴を見つけ出す。\n",
    "    - CNN: 画像認識などに用いられる手法。チャートの形状から上昇する特徴を見つけ出す。"
   ]
  },
  {
   "cell_type": "markdown",
   "metadata": {},
   "source": [
    "## 2.3.4 Simulation: 予測モデルの例 Deep Learning\n",
    "\n",
    "### Setting\n",
    "- Input/Output: 2.3.3(1)と同じ"
   ]
  },
  {
   "cell_type": "code",
   "execution_count": null,
   "metadata": {
    "scrolled": true
   },
   "outputs": [],
   "source": [
    "# NeuralNetwork with GridsearchCV\n",
    "from sklearn.neural_network import MLPClassifier\n",
    "\n",
    "# Hyper parameterの候補\n",
    "tuned_parameters =     {\n",
    "    'solver':['sgd'],   # 最適化手法 stochastic gradient desent\n",
    "    'activation': [ 'tanh'], # activation function\n",
    "    # 隠れ層の層の数と、各層のニューロンの数\n",
    "    'hidden_layer_sizes':[(50, 100, 50), (100, 50, 50),(100, 50, 100)], \n",
    "    'random_state':[1024], #内部で使われる乱数のシード\n",
    "    'max_iter':[10000] # 最適化時の最大イテレーション数\n",
    "}\n",
    "\n",
    "# GridSearchCVのConstructor\n",
    "clf_nn=GridSearchCV(MLPClassifier(), param_grid=tuned_parameters, scoring='accuracy', cv=5, refit=True, n_jobs=-1)\n",
    "clf_nn.fit(X_train, y_train) # 各Hyper parameterの組み合わせでTraing\n",
    "print(clf_nn.best_params_) #bestなHyperParameterの表示\n",
    "\n",
    "# Output: 為替予想 up(+1) down(-1)\n",
    "predict_nn_train = clf_nn.best_estimator_.predict(X_train)\n",
    "predict_nn_test = clf_nn.best_estimator_.predict(X_test)\n",
    "\n",
    "pd.DataFrame({\n",
    "    'Training': [metrics.accuracy_score(predict_nn_train, y_train)], #trainig dataに対する予想\n",
    "    'Test':[metrics.accuracy_score(predict_nn_test, y_test)] }, #test dataに対する予想\n",
    "    index={'score'})\n"
   ]
  },
  {
   "cell_type": "markdown",
   "metadata": {},
   "source": [
    "### Result\n",
    "- 学習データとテストデータに対する正解率は同等で、Testデータに対する正答率は今回試した手法の中では最も精度が高い。"
   ]
  },
  {
   "cell_type": "markdown",
   "metadata": {},
   "source": [
    "# 3. 予測に基づく取引戦略を考えよう"
   ]
  },
  {
   "cell_type": "markdown",
   "metadata": {},
   "source": [
    "## 3.1  取引戦略のモデル化\n",
    "### 取引戦略のモデル化\n",
    "- USDJPYの為替予測に基づく取引戦略を考えてみる。\n",
    "    - 戦略＝為替のポジション（保有量）を決めること。\n",
    "    \n",
    "- 時点$t_i$ での為替のポジションを$\\theta_i$とする\n",
    "    - USDJPY, $\\theta_i=1$ の場合、1ドルの買いポジション(１ドルを持っている)\n",
    "        - USDJPYレートが上がると利益が出て、下がると損失が出る\n",
    "    - USDJPY, $\\theta_i=-1$の場合、１ドルの売りポジション（１ドルを売っている（空売りしている））\n",
    "        - USDJPYレートが下がると利益が出て、上がると損失が出る\n",
    "- 時点$t_{i}$でのPL(Profit & Loss 損益)\n",
    "    - $X(t)$: 時点$t$ におけるUSDJPYの為替レートを表す。\n",
    "    - $t_{i-1}$に構築したポジションを全て解消したとすると発生する損益： <span style=\"color: blue; \">$\\theta_{i-1} X(t_{i})$</span>\n",
    "    - 時点$t_{i}$に新しいポジション$\\theta_i$を構築するためのコスト: <span style=\"color: red; \">$-\\theta_i X(t_i)$</span>\n",
    "    -  $PL(t_i) = \\theta_i (X(t_{i+1}) - X(t_i))$\n",
    "        \n",
    "| 時刻 | ポジション | PL |\n",
    "| :---: | :---: | :---: |\n",
    "| $t_0$ | $\\theta_0$ | <span style=\"color: red; \">$-\\theta_0$ $X(t_0)$</span>|\n",
    "| $t_1$ | $\\theta_1$ | <span style=\"color: blue; \">$+ \\theta_0$ $X(t_1)$</span> <br>  <span style=\"color: red; \">$-\\theta_1$ $X(t_1)$</span> |\n",
    "| $\\cdots$| $\\cdots$| $\\cdots$ |\n",
    "| $t_{n}$-1 | $\\theta_{n-1}$ | <span style=\"color: blue; \">$+ \\theta_{n-2}$ $X$$(t_{n-1}$)</span> <br>  <span style=\"color: red; \"> -$\\theta_{n-1}$ X(tn-1)</span> |\n",
    "| $t_{n}$ | $\\theta_{n}=0$ | <span style=\"color: blue; \">+$ \\theta_{n-1}$ $X(t_n)$</span> |\n",
    "\n",
    "- 期間$t_0$から$t_n$までのTotalの収益$V$は\n",
    "$$V(t_n) = \\sum_{i=0}^{n-1} \\theta_i \\left(X(t_{i+1})  - X({t_i}) \\right), n=1,2,\\dots$$\n",
    "\n",
    "### 注意\n",
    "- 上のモデル化では、現実には存在する以下の点を簡単のため省略している。\n",
    "    - 買う時にはAsk Price, 売る時にはBid Priceで取引することになり、Bid Askスプレッドが存在している。\n",
    "    - 取引コスト。\n",
    "    - $\\theta$に関する制限(ポジションリミット)がある。"
   ]
  },
  {
   "cell_type": "markdown",
   "metadata": {},
   "source": [
    "## 3.2 バックテスト\n",
    "\n",
    "- 取引戦略を実行することで得られる、価値プロセス $V(t_n)$がモデル化できたので、これを過去の一定期間のデータを使って実施してみて、戦略がうまくワークするかどうかをチェックすること。\n",
    "- 予測の時と同様、モデルの学習、パラメータのチューニングにはバックテスト期間のデータには一切触れないこと。\n"
   ]
  },
  {
   "cell_type": "markdown",
   "metadata": {},
   "source": [
    "## 3.3  取引戦略の例　 \n",
    "## 3.3  取引戦略の例1. (テクニカル分析 SMAを用いた戦略)\n",
    "- 1.4 例3で紹介したテクニカル分析の一つSMAを用いて以下のようにポジションを決める。\n",
    "    - 短気SMA($t_{i-1}$) > 長期SMA($t_{i-1}$) => 買い(ロング)ポジション　=>  $\\theta_{i-1} = +1$\n",
    "    - 短気SMA($t_{i-1}$) < 長期SMA($t_{i-1}$) => 売り(ショート)ポジション =>  $\\theta_{i-1} = -1$\n",
    "\n",
    "データの並び方の概略\n",
    "\n",
    "| 時刻 | fx |ポジション|$\\Delta$fx (base)|\n",
    "| :---: | :---: | :---: | :---: |\n",
    "|$t_i$ | fx($t_i$) | $\\theta_{i-1}$ |fx($t_i$) $-$ fx($t_{i-1}$)|"
   ]
  },
  {
   "cell_type": "code",
   "execution_count": null,
   "metadata": {},
   "outputs": [],
   "source": [
    "#SMAの期間\n",
    "sma_short = 25\n",
    "sma_long = 250\n",
    "\n",
    "#移動平均をとる\n",
    "data = pd.DataFrame({\n",
    "    'fx_usdjpy': df['fx_usdjpy'],\n",
    "    'SMA_short': df['fx_usdjpy'].rolling(sma_short).mean(),\n",
    "    'SMA_long': df['fx_usdjpy'].rolling(sma_long).mean()\n",
    "    \n",
    "})\n",
    "data.dropna(inplace=True)\n",
    "\n",
    "# position は一日前のSMAの大小関係で決める (position=\\theta_{i-1})\n",
    "data['position'] = np.where(data['SMA_short'].shift(1) > data['SMA_long'].shift(1) , 1, -1)\n",
    "data.plot(secondary_y='position', figsize=(8,4))\n",
    "\n",
    "# baseは単純に為替を１単位持っていたときのPL (fx(t_i)-fx(t_{i-1}))\n",
    "data['base'] = df['fx_usdjpy'].diff() \n",
    "# sma PL は \\theta_{i-1} * (fx(t_i)-fx(t_{i-1}))\n",
    "data['sma'] = data['position'] * data['base']\n",
    "\n",
    "#t_i までのそれぞれのtotal PL\n",
    "data[['base', 'sma']].cumsum().plot(figsize=(8, 4))"
   ]
  },
  {
   "cell_type": "markdown",
   "metadata": {},
   "source": [
    "## 3.3  取引戦略の例2. (2.3で行った為替予測を用いた戦略)\n",
    "2.3で構築したそれぞれの為替予測モデル ($u_i$) を使って、以下のようにポジションを決める。\n",
    "- $\\theta_{i-1} = u_{i}$とする ($u_i$は$t_{i-1}$までの特徴量から予測した$t_i$時点の為替の上下予想)。すなわち\n",
    "    - 時刻 $t_{i-1}$に $t_{i}$の為替が上がると予測 ($u_{i}=+1$) $\\Rightarrow$ $t_{i-1}$における買い(ロング)ポジション($\\theta_{i-1} = +1$)\n",
    "    - 時刻 $t_{i-1}$に $t_{i}$の為替が下がると予測 ($u_{i}=-1$) $\\Rightarrow$ $t_{i-1}$における売り(ショート)ポジション($\\theta_{i-1} = -1$)\n",
    "\n",
    "データの並び方の概略\n",
    "\n",
    "| 時刻 | fx |Position|$\\Delta$fx (base)|Predict|\n",
    "| :---: | :---: | :---: | :---: | :---: |\n",
    "|$t_i$ | fx($t_i$) | $\\theta_{i-1}$ |fx($t_i$) $-$ fx($t_{i-1}$)|$u_{i}$ |"
   ]
  },
  {
   "cell_type": "code",
   "execution_count": null,
   "metadata": {},
   "outputs": [],
   "source": [
    "# (fx(t_i)-fx(t_{i-1}))のデータをTrainingとTest 期間に分ける(Traing用は使わないが)\n",
    "dX0, dX = train_test_split(df['fx_usdjpy'].diff(), test_size=0.2, shuffle=False)\n",
    "pl = pd.DataFrame({'base': dX})\n",
    "\n",
    "# PL = \\theta_{i-1} * (fx(t_i)-fx(t_{i-1})), \\theta_{i-1}=predict_{i}\n",
    "pl['regression'] = predict_regression_test * dX\n",
    "pl['regression2'] = predict_regression2_test * dX\n",
    "pl['lasso'] = predict_lasso_test * dX\n",
    "pl['tree'] = predict_tree_test * dX\n",
    "pl['rf'] = predict_rf_test * dX\n",
    "pl['nn'] = predict_nn_test * dX\n",
    "\n",
    "# PL = sum PL\n",
    "np.cumsum(pl).plot(figsize=(9, 6))\n"
   ]
  },
  {
   "cell_type": "markdown",
   "metadata": {},
   "source": [
    "### Result\n",
    "- 各Strategyのバックテストのパフォーマンスは、2.3の為替予想のtestデータに対する正解率の順に並んでいる。\n",
    "    - (NN > Lasso > rf > tree > regression2 > base > regression )"
   ]
  },
  {
   "cell_type": "markdown",
   "metadata": {},
   "source": [
    "## まとめと補足\n",
    "- 前半は為替の基礎からデータ取得、いくつかの特徴量の例について解説しました。\n",
    "    - 実際は他にもここでは紹介しきれなかったたくさんの特徴量があります。\n",
    "- 後半はいくつかの特徴量と、機械学習モデルを使って、実際に為替予測を実践してみました。\n",
    "    - こちらもここでは紹介しきれなかったたくさんの機械学習モデルがありますし、一つの機械学習モデルをとってみても、さまざまな適用方法があります(例えば、回帰を使う際の目的変数として変動自体をとるのか、up/down(+1/-1)だけを取るか、など)。\n",
    "    - 常にこれが正解というものがあるわけではなく、その都度自分で試してみることが大事だと思います。\n",
    "- さらに予測に基づいて、取引戦略を構築し、バックテストでパフォーマンスを分析しました。\n",
    "    - 今回は単純に予測がupなら1単位の買いポジションdownなら１単位の売りポジションという単純なものでしたが、こちらもさまざまな戦略が考えられます。実際はこのポジションのサイズの駆け引きがトレーディングの重要な要素になります。\n",
    "\n",
    "### 参考文献\n",
    "    - 1. Pythonによるファイナンス 第2版 ――データ駆動型アプローチに向けて https://www.oreilly.co.jp/books/9784873118901/\n",
    "        - Financeで使われる手法(数理ファイナンス系もデータサイエンス系もどちらも)について幅広くpythonコードとともに載っている。\n",
    "    - 2. ファイナンス機械学習―金融市場分析を変える機械学習アルゴリズムの理論と実践 https://www.kinzai.jp/item/b13463/\n",
    "        - 実際に機械学習をファイナンスに適用する際の細かい注意点などが詳細に説明されている。"
   ]
  },
  {
   "cell_type": "markdown",
   "metadata": {},
   "source": [
    "# レポート課題\n",
    "1.  為替相場(もしくは他アセット)を予測する上で、あなたはどんな特徴量やモデルがいいと思いますか？もしくは本講義で用いた特徴量やモデル及び取引戦略に対してどのような改善点が考えられますか？理由と共に教えてください。\n",
    "\n",
    "2. 本講義の感想（面白かった点、難しかった点など）。\n",
    "\n",
    "3.  <span style=\"color: red; \">(任意)</span> 課題1で考えたあなたのアイディアを本講義で用いたコードを参考に実装し、どのようなパフォーマンスが出るか実験してみてください。\n",
    "    - 課題3はpythonの環境の問題でコードが動かないなどの問題があるかもしれないので必須ではないですが、興味がある人はぜひ自分で手を動かして実験してみてください。\n",
    "    - 課題３を提出する場合はjupyter notebookで提出して下さい。その場合は課題１と２も同一のjupyter notebookにmarkdownで記載してください。\n",
    "\n",
    "\n",
    "## 締め切り\n",
    "2021/7/16 (金) 17:00\n",
    "\n",
    "\n",
    "## 言語 \n",
    "日本語 もしくは 英語\n",
    "\n",
    "## レポートについての質問先\n",
    "- yuusuke_morimoto@mufg.jp\n",
    "- yuusuke.morimoto@gmail.com"
   ]
  }
 ],
 "metadata": {
  "celltoolbar": "Slideshow",
  "kernelspec": {
   "display_name": "Python 3",
   "language": "python",
   "name": "python3"
  },
  "language_info": {
   "codemirror_mode": {
    "name": "ipython",
    "version": 3
   },
   "file_extension": ".py",
   "mimetype": "text/x-python",
   "name": "python",
   "nbconvert_exporter": "python",
   "pygments_lexer": "ipython3",
   "version": "3.8.5"
  }
 },
 "nbformat": 4,
 "nbformat_minor": 4
}
